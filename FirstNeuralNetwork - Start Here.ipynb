{
 "cells": [
  {
   "cell_type": "markdown",
   "metadata": {},
   "source": [
    "# Build Your First Neural Network with PyTorch\n",
    "Copyright 2022, LEAKY.AI LLC\n",
    "\n",
    "This exercise is intended for anyone curious about building A.I. projects.  In order to complete this tutorial, follow along at https://www.leaky.ai. \n",
    "\n",
    "In this tutorial, we will build a neural network from scratch.  You will be introduced to PyTorch, a deep learning library managed by Meta's AI group and the power of neural networks.  We will be working on a synthetic dataset that catalogs the daily number of lemons sold at a lemon stand.  After training, the neural network will be ablet to predict the number of lemons that are likely going to be sold on a given day.  Lets get started!\n",
    "\n",
    "### Option 1 - If using Google Colab\n",
    "In order to complete this assignment:\n",
    "1.\tCopy the following link: https://github.com/LeakyAI/FirstNeuralNet\n",
    "2.\tHead over to Colab: https://colab.research.google.com/\n",
    "3.\tClick on GitHub and paste in the repo link above\n",
    "4.\tClick the magnify icon on the right side of the link you pasted above\n",
    "5.\tClick on the <b>FirstNeuralNetwork - Start Here.ipynb</b> notebook to get started\n",
    "\n",
    "### Option 2 - If you are running the notebook directly on your own laptop/desktop\n",
    "If you are using your own laptop or desktop and running the notebook locally, we recommend you complete the tutorial on how to configure your PC for A.I. at www.leaky.ai first and then attempt this tutorial.\n",
    "\n",
    "Next, replace the <b>[TBD]</b> parts below with your code and execute all the cells.  Most cells will have the correct solution shown below the cell for you to check your results.\n",
    "\n",
    "Good luck!"
   ]
  },
  {
   "cell_type": "markdown",
   "metadata": {},
   "source": [
    "# Step 1 - Setup our Environment\n",
    "Lets start by importing the software libraries we will need to build our neural network.  We will import PyTorch and check the version of PyTorch.  You will usually want to run the latest version.  Check the link below to verify you are running the latest version of PyTorch:\n",
    "    \n",
    "    https://pytorch.org/"
   ]
  },
  {
   "cell_type": "code",
   "execution_count": null,
   "metadata": {},
   "outputs": [],
   "source": [
    "# Import PyTorch libraries\n",
    "\n",
    "\n",
    "# Verify PyTorch libraries have been loaded\n"
   ]
  },
  {
   "cell_type": "markdown",
   "metadata": {},
   "source": [
    "### Check Our Processing Capability (CPU vs. GPU)"
   ]
  },
  {
   "cell_type": "code",
   "execution_count": null,
   "metadata": {},
   "outputs": [],
   "source": []
  },
  {
   "cell_type": "markdown",
   "metadata": {},
   "source": [
    "### Download the Dataset\n",
    "When training a neural network from scratch you will usually need a lot of data.  We will start by loading all the lemonade stand data which is a simply synthetic dataset.  It includes various fields like whether it was sunny, it was a weekend etc. on the day the sales took place.  The last field contains the number of lemonades actually sold.  This is the field we will want to train our neural network to predict."
   ]
  },
  {
   "cell_type": "code",
   "execution_count": null,
   "metadata": {},
   "outputs": [],
   "source": [
    "# Use Pandas to do our dataprocessing on the dataset\n",
    "import pandas as pd\n",
    "url = 'https://raw.githubusercontent.com/LeakyAI/FirstNeuralNet/main/lemons.csv'\n",
    "df = pd.read_csv(url)\n",
    "\n",
    "\n",
    "df.head(10)"
   ]
  },
  {
   "cell_type": "code",
   "execution_count": null,
   "metadata": {},
   "outputs": [],
   "source": [
    "df.shape"
   ]
  },
  {
   "cell_type": "markdown",
   "metadata": {},
   "source": [
    "# Step 2 - Prep our Data for the Neural Network\n",
    "\n",
    "The data has been collected in a table with the following columns:  'Weekend', 'Afternoon', 'Sunny', 'Warm', 'Sign', 'CuteDog', 'Ballons', 'Discount', 'FreshlyPicked', 'Ice', 'CleanHouse', 'DogWalked', 'NumberLemonsSold'.  The number we want our neural network to predict is the field called 'NumberLemonsSold'!  In order to train our network, we will need to seperate out our \"input\" (x) to the neural network and the \"output\" (y) or value we want it to learn.  Below we take out the last column from the data and place it into \"y\"."
   ]
  },
  {
   "cell_type": "markdown",
   "metadata": {},
   "source": [
    "# Create our Input X and Output Y\n"
   ]
  },
  {
   "cell_type": "code",
   "execution_count": null,
   "metadata": {},
   "outputs": [],
   "source": [
    "priceMean = df['Price'].mean()\n",
    "priceStd = df['Price'].std()\n",
    "numSoldMean = df['NumberSold'].mean()\n",
    "numSoldStd = df['NumberSold'].std()\n",
    "\n",
    "df['Price'] = (df['Price']-priceMean)/priceStd\n",
    "df['NumberSold'] = (df['NumberSold']-numSoldMean)/numSoldStd"
   ]
  },
  {
   "cell_type": "code",
   "execution_count": null,
   "metadata": {},
   "outputs": [],
   "source": [
    "df.head()"
   ]
  },
  {
   "cell_type": "code",
   "execution_count": null,
   "metadata": {},
   "outputs": [],
   "source": [
    "# Create our PyTorch tensors and move to CPU or GPU if available\n",
    "inputs = ['Weekend','Sunny','Warm','BigSign','Price']\n",
    "outputs = ['NumberSold']\n",
    "x = torch.tensor(df[inputs].values,dtype=torch.float, device=device)\n",
    "y = torch.tensor(df[outputs].values,dtype=torch.float, device=device)"
   ]
  },
  {
   "cell_type": "code",
   "execution_count": null,
   "metadata": {},
   "outputs": [],
   "source": [
    "x[0:5]"
   ]
  },
  {
   "cell_type": "code",
   "execution_count": null,
   "metadata": {},
   "outputs": [],
   "source": [
    "y[0:5]"
   ]
  },
  {
   "cell_type": "markdown",
   "metadata": {},
   "source": [
    "# Step 3 - Build our Neural Network\n",
    "Below we build a simply neural network that will take in the inputs above (12) and produce a single value as an output.  This network has a single hidden layer of 30 units."
   ]
  },
  {
   "cell_type": "code",
   "execution_count": null,
   "metadata": {},
   "outputs": [],
   "source": [
    "model = nn.Sequential(\n",
    "            nn.Linear(5,100),\n",
    "            nn.ReLU(),\n",
    "            nn.Linear(100,1)\n",
    "        )\n",
    "\n",
    "# Move it to either the CPU or GPU depending on what we have available\n",
    "model.to(device)"
   ]
  },
  {
   "cell_type": "markdown",
   "metadata": {},
   "source": [
    "# Step 4 - Train our Neural Network"
   ]
  },
  {
   "cell_type": "markdown",
   "metadata": {},
   "source": [
    "Here we will simply train our neural network on the dataset.  We will provide it with an input and and output.  The training loop will then adjust the weights within the neural network to make it more accuarate as we go through the training process."
   ]
  },
  {
   "cell_type": "code",
   "execution_count": null,
   "metadata": {},
   "outputs": [],
   "source": [
    "import torch.optim as optim\n",
    "\n",
    "# Meausure our neural network by mean square error\n",
    "criterion = torch.nn.MSELoss()\n",
    "\n",
    "# Train our network with a simple SGD approach\n",
    "optimizer = optim.SGD(model.parameters(), lr=0.01, momentum=0.9)\n",
    "\n",
    "# Train our network a using the entire dataset 5 times\n",
    "for epoch in range(20):\n",
    "    totalLoss = 0\n",
    "    for i in range(len(x)):\n",
    "        optimizer.zero_grad()\n",
    "        ypred = model(x[i])\n",
    "        loss = criterion(ypred, y[i])\n",
    "        totalLoss+=loss.item()\n",
    "        loss.backward()\n",
    "        optimizer.step()\n",
    "\n",
    "    # Print out our loss after each training iteration\n",
    "    print (\"Total Loss: \", totalLoss)"
   ]
  },
  {
   "cell_type": "code",
   "execution_count": null,
   "metadata": {},
   "outputs": [],
   "source": [
    "# Plot predictions vs. true values\n",
    "@torch.no_grad() \n",
    "def graphPredictions(model, x, y , minValue, maxValue):\n",
    "    \n",
    "    model.eval()                               # Set the model to inference mode\n",
    "    \n",
    "    predictions=[]                             # Track predictions\n",
    "    actual=[]                                  # Track the actual labels\n",
    "    \n",
    "    x.to(device)\n",
    "    y.to(device)\n",
    "    model.to(device)\n",
    "    \n",
    "    for i in range(len(x)):\n",
    "        \n",
    "        # Single forward pass\n",
    "        pred = model(x[i])                               \n",
    "\n",
    "        # Un-normalize our prediction\n",
    "        pred = pred*numSoldStd+numSoldMean\n",
    "        act = y[i]*numSoldStd+numSoldMean\n",
    "        \n",
    "        # Save prediction and actual label\n",
    "        predictions.append(pred.tolist())\n",
    "        actual.append(act.item())\n",
    "    \n",
    "    # Plot actuals vs predictions\n",
    "    plt.scatter(actual, predictions)\n",
    "    plt.xlabel('Actual Lemonades Sold')\n",
    "    plt.ylabel('Predicted Lemonades Sold')\n",
    "    plt.plot([minValue,maxValue], [minValue,maxValue]) \n",
    "    plt.xlim(minValue, maxValue)\n",
    "    plt.ylim(minValue, maxValue)\n",
    " \n",
    "    # Make the display equal in both dimensions\n",
    "    plt.gca().set_aspect('equal', adjustable='box')\n",
    "    plt.show()"
   ]
  },
  {
   "cell_type": "code",
   "execution_count": null,
   "metadata": {},
   "outputs": [],
   "source": [
    "graphPredictions(model, x, y, 0, 300)"
   ]
  },
  {
   "cell_type": "markdown",
   "metadata": {},
   "source": [
    "# Step 5 - Test our Neural Network Predictions"
   ]
  },
  {
   "cell_type": "markdown",
   "metadata": {},
   "source": [
    "Below we makeup some input data and see what our predictions should be vs what the neural network predicted."
   ]
  },
  {
   "cell_type": "code",
   "execution_count": null,
   "metadata": {},
   "outputs": [],
   "source": [
    "# Data that affects the number of lemons sold in one day\n",
    "weekend = 1\n",
    "sunny = 1\n",
    "warm = 1    \n",
    "bigsign = 1\n",
    "price = 3"
   ]
  },
  {
   "cell_type": "markdown",
   "metadata": {},
   "source": [
    "### Below we use the synthetic data generator forumla to determine what the actual result should have been."
   ]
  },
  {
   "cell_type": "code",
   "execution_count": null,
   "metadata": {},
   "outputs": [],
   "source": [
    "numlemonssold = 0\n",
    "if weekend:\n",
    "    numlemonssold = (sunny*5  + int(500 / price))\n",
    "    if bigsign:\n",
    "        numlemonssold = 1.3 * numlemonssold\n",
    "    if warm:\n",
    "        numlemonssold = 2 * numlemonssold\n",
    "    if sunny:\n",
    "        numlemonssold = 1.25 * numlemonssold\n",
    "numlemonssold = int(numlemonssold)    \n",
    "print (\"Actual Result: \", numlemonssold)"
   ]
  },
  {
   "cell_type": "markdown",
   "metadata": {},
   "source": [
    "Below we push that same input data into the neural network and see what it predicts."
   ]
  },
  {
   "cell_type": "code",
   "execution_count": null,
   "metadata": {},
   "outputs": [],
   "source": [
    "# Normalize our inputs using the same values for our training\n",
    "model.to('cpu')\n",
    "price = (price - priceMean) / priceStd\n",
    "\n",
    "x1 = torch.tensor([weekend, sunny, warm, bigsign, price],dtype=float)\n",
    "y1 = model(x1.float())\n",
    "\n",
    "# Un-normalize our output\n",
    "y1 = y1*numSoldStd+numSoldMean\n",
    "print(\"Neural Network Predicts: \", y1.item())"
   ]
  },
  {
   "cell_type": "markdown",
   "metadata": {},
   "source": [
    "# Step 6 - Next Steps\n",
    "This is just a beginning but hopefully you can see how powerful neural networks can be!  There are lots of things we would do above to make it work even better including breaking the dataset up into a training, validation and testing set and fine tune our training a lot more.  \n",
    "\n",
    "Head over to www.leaky.ai for more tutorials and also check out our Introduction to A.I. Programming Course at https://www.leaky.ai/introduction-to-ai-programming-with-pytorch-course-beginner.\n",
    "\n",
    "Happy Learning!\n",
    "\n",
    "leaky.ai team"
   ]
  }
 ],
 "metadata": {
  "kernelspec": {
   "display_name": "Python 3 (ipykernel)",
   "language": "python",
   "name": "python3"
  },
  "language_info": {
   "codemirror_mode": {
    "name": "ipython",
    "version": 3
   },
   "file_extension": ".py",
   "mimetype": "text/x-python",
   "name": "python",
   "nbconvert_exporter": "python",
   "pygments_lexer": "ipython3",
   "version": "3.8.2"
  }
 },
 "nbformat": 4,
 "nbformat_minor": 2
}
