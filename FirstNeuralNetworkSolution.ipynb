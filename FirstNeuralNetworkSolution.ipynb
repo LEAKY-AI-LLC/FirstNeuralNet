{
 "cells": [
  {
   "cell_type": "markdown",
   "metadata": {},
   "source": [
    "# Introduction\n",
    "In this workbook, we will build a neural network from scratch.  You will be introduced to PyTorch and the power of neural networks.  We will be working on a synthetic dataset that catalogs the daily number of lemons sold at a lemon stand.  After training, the neural network will be ablet to predict the number of lemons that are likely going to be sold on a given day.  Lets get started!\n",
    "\n",
    "Lets start by importing the software libraries we will need to build our neural network"
   ]
  },
  {
   "cell_type": "code",
   "execution_count": 1,
   "metadata": {},
   "outputs": [],
   "source": [
    "# Import PyTorch libraries\n",
    "import torch\n",
    "from torch import nn "
   ]
  },
  {
   "cell_type": "markdown",
   "metadata": {},
   "source": [
    "### Check the PyTorch Version\n",
    "Here we verify that PyTorch has been loaded and also the version of PyTorch.  Keep in mind, we usually want to run the latest version.  Check at the link below to verify the latest version of PyTorch:\n",
    "    \n",
    "    https://pytorch.org/"
   ]
  },
  {
   "cell_type": "code",
   "execution_count": 2,
   "metadata": {},
   "outputs": [
    {
     "data": {
      "text/plain": [
       "'1.2.0'"
      ]
     },
     "execution_count": 2,
     "metadata": {},
     "output_type": "execute_result"
    }
   ],
   "source": [
    "# Verify PyTorch libraries have been loaded\n",
    "torch.__version__"
   ]
  },
  {
   "cell_type": "markdown",
   "metadata": {},
   "source": [
    "## Import our Dataset\n",
    "Neural networks need lots of data.  We will start by loading all the lemonade stand data.\n",
    "\n",
    "The data has been collected in a table with the following columns:  'Weekend', 'Afternoon', 'Sunny', 'Warm', 'Sign', 'CuteDog', 'Ballons', 'Discount', 'FreshlyPicked', 'Ice', 'CleanHouse', 'DogWalked', 'NumberLemonsSold'\n",
    "\n",
    "The number we want our neural network to predict is the field called 'NumberLemonsSold'!"
   ]
  },
  {
   "cell_type": "code",
   "execution_count": 4,
   "metadata": {},
   "outputs": [
    {
     "name": "stdout",
     "output_type": "stream",
     "text": [
      "['Weekend', 'Afternoon', 'Sunny', 'Warm', 'Sign', 'CuteDog', 'Ballons', 'Discount', 'FreshlyPicked', 'Ice', 'CleanHouse', 'DogWalked', 'NumberLemonsSold']\n",
      "   Weekend  Afternoon  Sunny  Warm  Sign  CuteDog  Ballons  Discount  \\\n",
      "0        1          1      1     0     1        0        0         0   \n",
      "1        1          0      1     0     1        0        0         0   \n",
      "2        0          0      1     0     0        1        1         0   \n",
      "3        0          0      1     1     0        1        0         0   \n",
      "4        1          1      1     0     0        1        0         0   \n",
      "\n",
      "   FreshlyPicked  Ice  CleanHouse  DogWalked  \n",
      "0              0    1           0          1  \n",
      "1              0    0           1          0  \n",
      "2              0    0           0          0  \n",
      "3              1    1           1          1  \n",
      "4              1    1           0          0  \n",
      "   NumberLemonsSold\n",
      "0                10\n",
      "1                 7\n",
      "2                 0\n",
      "3                 0\n",
      "4                14\n"
     ]
    }
   ],
   "source": [
    "import pandas as pd\n",
    "df = pd.read_csv('lemons.csv', nrows=1) # just get the columns\n",
    "columns = df.columns.tolist() # get the columns\n",
    "print (columns)\n",
    "cols_to_use = columns[:len(columns)-1] # drop the last one\n",
    "xDF = pd.read_csv('lemons.csv', usecols=cols_to_use)\n",
    "print (xDF.head())\n",
    "yDF = pd.read_csv('lemons.csv', usecols=['NumberLemonsSold'])\n",
    "print (yDF.head())"
   ]
  },
  {
   "cell_type": "code",
   "execution_count": 5,
   "metadata": {},
   "outputs": [
    {
     "name": "stdout",
     "output_type": "stream",
     "text": [
      "tensor([[1., 1., 1.,  ..., 1., 0., 1.],\n",
      "        [1., 0., 1.,  ..., 0., 1., 0.],\n",
      "        [0., 0., 1.,  ..., 0., 0., 0.],\n",
      "        ...,\n",
      "        [0., 0., 0.,  ..., 1., 1., 1.],\n",
      "        [1., 0., 0.,  ..., 0., 0., 1.],\n",
      "        [0., 0., 0.,  ..., 0., 1., 1.]])\n",
      "tensor([[10.],\n",
      "        [ 7.],\n",
      "        [ 0.],\n",
      "        ...,\n",
      "        [ 0.],\n",
      "        [ 2.],\n",
      "        [ 0.]])\n"
     ]
    }
   ],
   "source": [
    "x = torch.tensor(xDF.values,dtype=torch.float)\n",
    "y = torch.tensor(yDF.values,dtype=torch.float)\n",
    "print (x)\n",
    "print (y)"
   ]
  },
  {
   "cell_type": "code",
   "execution_count": 6,
   "metadata": {},
   "outputs": [],
   "source": [
    "class MyFirstNetwork(nn.Module):\n",
    "    def __init__(self):\n",
    "        super(MyFirstNetwork, self).__init__()\n",
    "        self.network = nn.Sequential(\n",
    "            nn.Linear(12,30),\n",
    "            nn.ReLU(),\n",
    "            nn.Linear(30,1)\n",
    "        )\n",
    "        \n",
    "    def forward(self, x):\n",
    "        logits = self.network(x)\n",
    "        return logits"
   ]
  },
  {
   "cell_type": "code",
   "execution_count": 7,
   "metadata": {},
   "outputs": [
    {
     "name": "stdout",
     "output_type": "stream",
     "text": [
      "A cpu device was found for processing\n"
     ]
    }
   ],
   "source": [
    "device = 'cuda' if torch.cuda.is_available() else 'cpu'\n",
    "print('A {} device was found for processing'.format(device))"
   ]
  },
  {
   "cell_type": "code",
   "execution_count": 8,
   "metadata": {},
   "outputs": [],
   "source": [
    "model = MyFirstNetwork()"
   ]
  },
  {
   "cell_type": "code",
   "execution_count": 9,
   "metadata": {},
   "outputs": [],
   "source": [
    "model.to(device)\n",
    "x = x.to(device)\n",
    "y = y.to(device)"
   ]
  },
  {
   "cell_type": "code",
   "execution_count": 10,
   "metadata": {},
   "outputs": [
    {
     "data": {
      "text/plain": [
       "tensor([[1., 1., 1.,  ..., 1., 0., 1.],\n",
       "        [1., 0., 1.,  ..., 0., 1., 0.],\n",
       "        [0., 0., 1.,  ..., 0., 0., 0.],\n",
       "        ...,\n",
       "        [0., 0., 0.,  ..., 1., 1., 1.],\n",
       "        [1., 0., 0.,  ..., 0., 0., 1.],\n",
       "        [0., 0., 0.,  ..., 0., 1., 1.]])"
      ]
     },
     "execution_count": 10,
     "metadata": {},
     "output_type": "execute_result"
    }
   ],
   "source": [
    "x"
   ]
  },
  {
   "cell_type": "code",
   "execution_count": 11,
   "metadata": {},
   "outputs": [
    {
     "name": "stdout",
     "output_type": "stream",
     "text": [
      "8882.82708154848\n",
      "65.425484356639\n",
      "24.194293607279025\n",
      "15.966863013023694\n",
      "10.566484175369105\n"
     ]
    }
   ],
   "source": [
    "import torch.optim as optim\n",
    "criterion = torch.nn.MSELoss()  #reduction='sum' maybe?\n",
    "optimizer = optim.SGD(model.parameters(), lr=0.001, momentum=0.9)\n",
    "for epoch in range(5):\n",
    "    totalLoss = 0\n",
    "    for i in range(len(x)):\n",
    "        # Forward pass: Compute predicted y by passing x to the model\n",
    "        \n",
    "        optimizer.zero_grad()\n",
    "        ypred = model(x[i])\n",
    "        loss = criterion(ypred, y[i])\n",
    "        totalLoss+=loss.item()\n",
    "        loss.backward()\n",
    "        optimizer.step()\n",
    "    print (totalLoss)\n"
   ]
  },
  {
   "cell_type": "code",
   "execution_count": 12,
   "metadata": {},
   "outputs": [
    {
     "name": "stdout",
     "output_type": "stream",
     "text": [
      "Actual  17\n"
     ]
    }
   ],
   "source": [
    "# Data that affects the number of lemons sold in one day\n",
    "weekend = 1\n",
    "afternoon = 1\n",
    "sunny = 1\n",
    "warm = 0\n",
    "\n",
    "sign = 1\n",
    "cutedog = 0\n",
    "ballons = 1\n",
    "discount = 1\n",
    "freshlypicked = 1\n",
    "ice = 1\n",
    "\n",
    "# Data that usually does not affect lemons sold\n",
    "houseclean = 1\n",
    "dogwentwalk = 1\n",
    "\n",
    "numlemonssold = 0\n",
    "if weekend:\n",
    "    numlemonssold = afternoon + sunny*5 + warm*10 + sign*2 + cutedog + ballons+discount+freshlypicked*5 + ice*2\n",
    "\n",
    "print (\"Actual \", numlemonssold)\n"
   ]
  },
  {
   "cell_type": "code",
   "execution_count": 13,
   "metadata": {},
   "outputs": [
    {
     "name": "stdout",
     "output_type": "stream",
     "text": [
      "Model Predicted:  17.047454833984375\n"
     ]
    }
   ],
   "source": [
    "model.to('cpu')\n",
    "x = torch.tensor([weekend, afternoon,sunny,warm, sign, cutedog, \n",
    "                 ballons, discount, freshlypicked, ice, houseclean, \n",
    "                 dogwentwalk],dtype=float)\n",
    "y=model(x.float())\n",
    "print(\"Model Predicted: \",y.item())"
   ]
  }
 ],
 "metadata": {
  "kernelspec": {
   "display_name": "Python (PY37)",
   "language": "python",
   "name": "py37"
  },
  "language_info": {
   "codemirror_mode": {
    "name": "ipython",
    "version": 3
   },
   "file_extension": ".py",
   "mimetype": "text/x-python",
   "name": "python",
   "nbconvert_exporter": "python",
   "pygments_lexer": "ipython3",
   "version": "3.7.4"
  }
 },
 "nbformat": 4,
 "nbformat_minor": 2
}
