{
 "cells": [
  {
   "cell_type": "markdown",
   "metadata": {},
   "source": [
    "# Build Your First Neural Network with PyTorch\n",
    "Copyright 2022, LEAKY.AI LLC\n",
    "\n",
    "This exercise is intended for anyone curious about building A.I. projects.  In order to complete this tutorial, follow along at https://www.leaky.ai. \n",
    "\n",
    "In this tutorial, we will build a neural network from scratch.  You will be introduced to PyTorch, a deep learning library managed by Meta's AI group and the power of neural networks.  We will be working on a synthetic dataset that catalogs the daily number of lemons sold at a lemon stand.  After training, the neural network will be ablet to predict the number of lemons that are likely going to be sold on a given day.  Lets get started!\n",
    "\n",
    "### Option 1 - If using Google Colab\n",
    "In order to complete this assignment:\n",
    "1.\tCopy the following link: https://github.com/LeakyAI/FirstNeuralNet\n",
    "2.\tHead over to Colab: https://colab.research.google.com/\n",
    "3.\tClick on GitHub and paste in the repo link above\n",
    "4.\tClick the magnify icon on the right side of the link you pasted above\n",
    "5.\tClick on the <b>FirstNeuralNetwork - Start Here.ipynb</b> notebook to get started\n",
    "\n",
    "### Option 2 - If you are running the notebook directly on your own laptop/desktop\n",
    "If you are using your own laptop or desktop and running the notebook locally, we recommend you complete the tutorial on how to configure your PC for A.I. at www.leaky.ai first and then attempt this tutorial.\n",
    "\n",
    "Next, replace the <b>[TBD]</b> parts below with your code and execute all the cells.  Most cells will have the correct solution shown below the cell for you to check your results.\n",
    "\n",
    "Good luck!"
   ]
  },
  {
   "cell_type": "markdown",
   "metadata": {},
   "source": [
    "# Step 1 - Setup our Environment\n",
    "Lets start by importing the software libraries we will need to build our neural network.  We will import PyTorch and check the version of PyTorch.  You will usually want to run the latest version.  Check the link below to verify you are running the latest version of PyTorch:\n",
    "    \n",
    "    https://pytorch.org/"
   ]
  },
  {
   "cell_type": "code",
   "execution_count": 1,
   "metadata": {},
   "outputs": [
    {
     "data": {
      "text/plain": [
       "'1.9.0'"
      ]
     },
     "execution_count": 1,
     "metadata": {},
     "output_type": "execute_result"
    }
   ],
   "source": [
    "# Import PyTorch libraries\n",
    "import torch\n",
    "from torch import nn \n",
    "\n",
    "# Verify PyTorch libraries have been loaded\n",
    "torch.__version__"
   ]
  },
  {
   "cell_type": "markdown",
   "metadata": {},
   "source": [
    "### Check Our Processing Capability (CPU vs. GPU)"
   ]
  },
  {
   "cell_type": "code",
   "execution_count": 2,
   "metadata": {},
   "outputs": [
    {
     "name": "stdout",
     "output_type": "stream",
     "text": [
      "A cuda device was found for processing\n"
     ]
    }
   ],
   "source": [
    "device = 'cuda' if torch.cuda.is_available() else 'cpu'\n",
    "print('A {} device was found for processing'.format(device))"
   ]
  },
  {
   "cell_type": "markdown",
   "metadata": {},
   "source": [
    "### Download the Dataset\n",
    "When training a neural network from scratch you will usually need a lot of data.  We will start by loading all the lemonade stand data which is a simply synthetic dataset.  It includes various fields like whether it was sunny, it was a weekend etc. on the day the sales took place.  The last field contains the number of lemonades actually sold.  This is the field we will want to train our neural network to predict."
   ]
  },
  {
   "cell_type": "code",
   "execution_count": 3,
   "metadata": {},
   "outputs": [
    {
     "data": {
      "text/html": [
       "<div>\n",
       "<style scoped>\n",
       "    .dataframe tbody tr th:only-of-type {\n",
       "        vertical-align: middle;\n",
       "    }\n",
       "\n",
       "    .dataframe tbody tr th {\n",
       "        vertical-align: top;\n",
       "    }\n",
       "\n",
       "    .dataframe thead th {\n",
       "        text-align: right;\n",
       "    }\n",
       "</style>\n",
       "<table border=\"1\" class=\"dataframe\">\n",
       "  <thead>\n",
       "    <tr style=\"text-align: right;\">\n",
       "      <th></th>\n",
       "      <th>Weekend</th>\n",
       "      <th>Afternoon</th>\n",
       "      <th>Sunny</th>\n",
       "      <th>Warm</th>\n",
       "      <th>Sign</th>\n",
       "      <th>CuteDog</th>\n",
       "      <th>Ballons</th>\n",
       "      <th>Discount</th>\n",
       "      <th>FreshlyPicked</th>\n",
       "      <th>Ice</th>\n",
       "      <th>CleanHouse</th>\n",
       "      <th>DogWalked</th>\n",
       "      <th>NumberLemonsSold</th>\n",
       "    </tr>\n",
       "  </thead>\n",
       "  <tbody>\n",
       "    <tr>\n",
       "      <th>0</th>\n",
       "      <td>1</td>\n",
       "      <td>1</td>\n",
       "      <td>1</td>\n",
       "      <td>0</td>\n",
       "      <td>1</td>\n",
       "      <td>0</td>\n",
       "      <td>0</td>\n",
       "      <td>0</td>\n",
       "      <td>0</td>\n",
       "      <td>1</td>\n",
       "      <td>0</td>\n",
       "      <td>1</td>\n",
       "      <td>10</td>\n",
       "    </tr>\n",
       "    <tr>\n",
       "      <th>1</th>\n",
       "      <td>1</td>\n",
       "      <td>0</td>\n",
       "      <td>1</td>\n",
       "      <td>0</td>\n",
       "      <td>1</td>\n",
       "      <td>0</td>\n",
       "      <td>0</td>\n",
       "      <td>0</td>\n",
       "      <td>0</td>\n",
       "      <td>0</td>\n",
       "      <td>1</td>\n",
       "      <td>0</td>\n",
       "      <td>7</td>\n",
       "    </tr>\n",
       "    <tr>\n",
       "      <th>2</th>\n",
       "      <td>0</td>\n",
       "      <td>0</td>\n",
       "      <td>1</td>\n",
       "      <td>0</td>\n",
       "      <td>0</td>\n",
       "      <td>1</td>\n",
       "      <td>1</td>\n",
       "      <td>0</td>\n",
       "      <td>0</td>\n",
       "      <td>0</td>\n",
       "      <td>0</td>\n",
       "      <td>0</td>\n",
       "      <td>0</td>\n",
       "    </tr>\n",
       "    <tr>\n",
       "      <th>3</th>\n",
       "      <td>0</td>\n",
       "      <td>0</td>\n",
       "      <td>1</td>\n",
       "      <td>1</td>\n",
       "      <td>0</td>\n",
       "      <td>1</td>\n",
       "      <td>0</td>\n",
       "      <td>0</td>\n",
       "      <td>1</td>\n",
       "      <td>1</td>\n",
       "      <td>1</td>\n",
       "      <td>1</td>\n",
       "      <td>0</td>\n",
       "    </tr>\n",
       "    <tr>\n",
       "      <th>4</th>\n",
       "      <td>1</td>\n",
       "      <td>1</td>\n",
       "      <td>1</td>\n",
       "      <td>0</td>\n",
       "      <td>0</td>\n",
       "      <td>1</td>\n",
       "      <td>0</td>\n",
       "      <td>0</td>\n",
       "      <td>1</td>\n",
       "      <td>1</td>\n",
       "      <td>0</td>\n",
       "      <td>0</td>\n",
       "      <td>14</td>\n",
       "    </tr>\n",
       "  </tbody>\n",
       "</table>\n",
       "</div>"
      ],
      "text/plain": [
       "   Weekend  Afternoon  Sunny  Warm  Sign  CuteDog  Ballons  Discount  \\\n",
       "0        1          1      1     0     1        0        0         0   \n",
       "1        1          0      1     0     1        0        0         0   \n",
       "2        0          0      1     0     0        1        1         0   \n",
       "3        0          0      1     1     0        1        0         0   \n",
       "4        1          1      1     0     0        1        0         0   \n",
       "\n",
       "   FreshlyPicked  Ice  CleanHouse  DogWalked  NumberLemonsSold  \n",
       "0              0    1           0          1                10  \n",
       "1              0    0           1          0                 7  \n",
       "2              0    0           0          0                 0  \n",
       "3              1    1           1          1                 0  \n",
       "4              1    1           0          0                14  "
      ]
     },
     "execution_count": 3,
     "metadata": {},
     "output_type": "execute_result"
    }
   ],
   "source": [
    "# Use Pandas to do our dataprocessing on the dataset\n",
    "import pandas as pd\n",
    "url = 'https://raw.githubusercontent.com/LeakyAI/FirstNeuralNet/main/lemons.csv'\n",
    "df = pd.read_csv(url)\n",
    "df.head(5)"
   ]
  },
  {
   "cell_type": "markdown",
   "metadata": {},
   "source": [
    "# Step 2 - Prep our Data for the Neural Network\n",
    "\n",
    "The data has been collected in a table with the following columns:  'Weekend', 'Afternoon', 'Sunny', 'Warm', 'Sign', 'CuteDog', 'Ballons', 'Discount', 'FreshlyPicked', 'Ice', 'CleanHouse', 'DogWalked', 'NumberLemonsSold'.  The number we want our neural network to predict is the field called 'NumberLemonsSold'!  In order to train our network, we will need to seperate out our \"input\" (x) to the neural network and the \"output\" (y) or value we want it to learn.  Below we take out the last column from the data and place it into \"y\"."
   ]
  },
  {
   "cell_type": "code",
   "execution_count": 4,
   "metadata": {},
   "outputs": [
    {
     "name": "stdout",
     "output_type": "stream",
     "text": [
      "Columns:  ['Weekend', 'Afternoon', 'Sunny', 'Warm', 'Sign', 'CuteDog', 'Ballons', 'Discount', 'FreshlyPicked', 'Ice', 'CleanHouse', 'DogWalked', 'NumberLemonsSold']\n"
     ]
    }
   ],
   "source": [
    "# Read only the columns of the csv file\n",
    "df = pd.read_csv(url, nrows=1) \n",
    "columns = df.columns.tolist() \n",
    "print (\"Columns: \", columns)\n",
    "\n",
    "# Remove the last column from the list\n",
    "cols_to_use = columns[:len(columns)-1] # drop the last one\n",
    "\n",
    "# Now build our input (x) and output (y) to the neural network\n",
    "xDF = pd.read_csv(url, usecols=cols_to_use)\n",
    "yDF = pd.read_csv(url, usecols=['NumberLemonsSold'])\n",
    "\n",
    "# Finally convert our data to PyTorch tensors\n",
    "x = torch.tensor(xDF.values,dtype=torch.float)\n",
    "y = torch.tensor(yDF.values,dtype=torch.float)\n",
    "\n",
    "# Move our data to either CPU or GPU depending on what we discovered above\n",
    "x = x.to(device)\n",
    "y = y.to(device)"
   ]
  },
  {
   "cell_type": "markdown",
   "metadata": {},
   "source": [
    "# Step 3 - Build our Neural Network\n",
    "Below we build a simply neural network that will take in the inputs above (12) and produce a single value as an output.  This network has a single hidden layer of 30 units."
   ]
  },
  {
   "cell_type": "code",
   "execution_count": 5,
   "metadata": {},
   "outputs": [
    {
     "data": {
      "text/plain": [
       "Sequential(\n",
       "  (0): Linear(in_features=12, out_features=30, bias=True)\n",
       "  (1): ReLU()\n",
       "  (2): Linear(in_features=30, out_features=1, bias=True)\n",
       ")"
      ]
     },
     "execution_count": 5,
     "metadata": {},
     "output_type": "execute_result"
    }
   ],
   "source": [
    "model = nn.Sequential(\n",
    "            nn.Linear(12,30),\n",
    "            nn.ReLU(),\n",
    "            nn.Linear(30,1)\n",
    "        )\n",
    "\n",
    "# Move it to either the CPU or GPU depending on what we have available\n",
    "model.to(device)"
   ]
  },
  {
   "cell_type": "markdown",
   "metadata": {},
   "source": [
    "# Step 4 - Train our Neural Network"
   ]
  },
  {
   "cell_type": "markdown",
   "metadata": {},
   "source": [
    "Here we will simply train our neural network on the dataset.  We will provide it with an input and and output.  The training loop will then adjust the weights within the neural network to make it more accuarate as we go through the training process."
   ]
  },
  {
   "cell_type": "code",
   "execution_count": 6,
   "metadata": {},
   "outputs": [
    {
     "name": "stdout",
     "output_type": "stream",
     "text": [
      "Total Loss:  9826.246387275416\n",
      "Total Loss:  66.17708677123574\n",
      "Total Loss:  26.986507382378182\n",
      "Total Loss:  13.680310017999501\n",
      "Total Loss:  7.697012469882144\n"
     ]
    }
   ],
   "source": [
    "import torch.optim as optim\n",
    "\n",
    "# Meausure our neural network by mean square error\n",
    "criterion = torch.nn.MSELoss()\n",
    "\n",
    "# Train our network with a simple SGD approach\n",
    "optimizer = optim.SGD(model.parameters(), lr=0.001, momentum=0.9)\n",
    "\n",
    "# Train our network a using the entire dataset 5 times\n",
    "for epoch in range(5):\n",
    "\n",
    "    totalLoss = 0\n",
    "    for i in range(len(x)):\n",
    "        # Forward pass: Compute predicted y by passing x to the model\n",
    "        optimizer.zero_grad()\n",
    "        ypred = model(x[i])\n",
    "        loss = criterion(ypred, y[i])\n",
    "        totalLoss+=loss.item()\n",
    "        loss.backward()\n",
    "        optimizer.step()\n",
    "    \n",
    "    print (\"Total Loss: \", totalLoss)"
   ]
  },
  {
   "cell_type": "markdown",
   "metadata": {},
   "source": [
    "# Step 5 - Test our Neural Network Predictions"
   ]
  },
  {
   "cell_type": "markdown",
   "metadata": {},
   "source": [
    "Below we makeup some input data and see what our predictions should be vs what the neural network predicted."
   ]
  },
  {
   "cell_type": "code",
   "execution_count": 7,
   "metadata": {},
   "outputs": [],
   "source": [
    "# Data that affects the number of lemons sold in one day\n",
    "weekend = 1\n",
    "afternoon = 1\n",
    "sunny = 1\n",
    "warm = 0\n",
    "sign = 1\n",
    "cutedog = 0\n",
    "ballons = 1\n",
    "discount = 1\n",
    "freshlypicked = 1\n",
    "ice = 1\n",
    "\n",
    "# Data that usually does not affect lemons sold\n",
    "houseclean = 1\n",
    "dogwentwalk = 1"
   ]
  },
  {
   "cell_type": "markdown",
   "metadata": {},
   "source": [
    "Below we use the synthetic data generator forumla to determine what the actual result should have been."
   ]
  },
  {
   "cell_type": "code",
   "execution_count": 8,
   "metadata": {},
   "outputs": [
    {
     "name": "stdout",
     "output_type": "stream",
     "text": [
      "Actual Result:  17\n"
     ]
    }
   ],
   "source": [
    "numlemonssold = 0\n",
    "if weekend:\n",
    "    numlemonssold = afternoon + sunny*5 + warm*10 + sign*2 + cutedog + \\\n",
    "                    ballons+discount+freshlypicked*5 + ice*2\n",
    "print (\"Actual Result: \", numlemonssold)"
   ]
  },
  {
   "cell_type": "markdown",
   "metadata": {},
   "source": [
    "Below we push that same input data into the neural network and see what it predicts."
   ]
  },
  {
   "cell_type": "code",
   "execution_count": 9,
   "metadata": {},
   "outputs": [
    {
     "name": "stdout",
     "output_type": "stream",
     "text": [
      "Neural Network Predicts:  17.019847869873047\n"
     ]
    }
   ],
   "source": [
    "model.to('cpu')\n",
    "x = torch.tensor([weekend, afternoon,sunny, warm, sign, cutedog, \n",
    "                 ballons, discount, freshlypicked, ice, houseclean, \n",
    "                 dogwentwalk],dtype=float)\n",
    "y=model(x.float())\n",
    "print(\"Neural Network Predicts: \", y.item())"
   ]
  },
  {
   "cell_type": "markdown",
   "metadata": {},
   "source": [
    "# Step 6 - Next Steps\n",
    "This is just a beginning but hopefully you can see how powerful neural networks can be!  There are lots of things we would do above to make it work even better including breaking the dataset up into a training, validation and testing set and fine tune our training a lot more.  \n",
    "\n",
    "Head over to www.leaky.ai for more tutorials and also check out our Introduction to A.I. Programming Course at https://www.leaky.ai/introduction-to-ai-programming-with-pytorch-course-beginner.\n",
    "\n",
    "Happy Learning!\n",
    "\n",
    "leaky.ai team"
   ]
  }
 ],
 "metadata": {
  "kernelspec": {
   "display_name": "Python 3 (ipykernel)",
   "language": "python",
   "name": "python3"
  },
  "language_info": {
   "codemirror_mode": {
    "name": "ipython",
    "version": 3
   },
   "file_extension": ".py",
   "mimetype": "text/x-python",
   "name": "python",
   "nbconvert_exporter": "python",
   "pygments_lexer": "ipython3",
   "version": "3.8.2"
  }
 },
 "nbformat": 4,
 "nbformat_minor": 2
}
