{
 "cells": [
  {
   "cell_type": "markdown",
   "metadata": {},
   "source": [
    "## Build Your First Neural Network with PyTorch\n",
    "Copyright 2022, LEAKY.AI LLC\n",
    "\n",
    "Level:  Beginner\n",
    "Time:  30 minutes\n",
    "Equipment:  Google Chrome Browser\n",
    "\n",
    "### Overview\n",
    "This free tutorial exercise is intended for anyone curious about building their own A.I. projects. In this tutorial, you will build a neural network from scratch and train it to make Lemonade sales predictions using a simple, synthetic dataset.   You will be introduced to PyTorch, a deep learning library managed by Meta's AI group, powering lots of A.I. applications around the world today. \n",
    "\n",
    "### Dataset – Lemonade Sales Synthetic Dataset\n",
    "We will be working on a synthetic dataset that catalogs the daily number of lemons sold at a lemon stand. After training, the neural network will be ablet to predict the number of lemons that are likely going to be sold on a given day.\n",
    "\n",
    "### How to Get Started\n",
    "You can find the full tutorial and follow along coding the notebook here:  (it’s free)\n",
    "https://www.leaky.ai/buildyourfirstneuralnetwork\n",
    "\n",
    "\n",
    "### Option 1 – Use Google Colab (Simplest Way)\n",
    "In order to complete this assignment:\n",
    "1.\tCopy the following link: https://github.com/LeakyAI/FirstNeuralNet\n",
    "2.\tHead over to Colab: https://colab.research.google.com/\n",
    "3.\tClick on GitHub and paste in the repo link from (1) above\n",
    "4.\tClick the magnify icon on the right side of the link you pasted above\n",
    "5.\tClick on the FirstNeuralNetwork - Start Here.ipynb notebook and the notebook will open\n",
    "6.\tFollow along the tutorial to complete the notebook\n",
    "\n",
    "### Option 2 – Run notebook directly on your own machine\n",
    "If you are using your own laptop or desktop to run the notebook locally, we recommend you complete the tutorial on how to configure your PC for A.I. at:\n",
    "\n",
    "#### How to Configure your PC for A.I. (20 Minutes)\n",
    "https://www.leaky.ai/configure-pc-for-ai-20-minutes\n",
    "\n",
    "Then attempt this tutorial by opening up the notebook FirstNeuralNetwork - Start Here.ipynb and following along the video.\n",
    "\n",
    "Let’s get started!"
   ]
  },
  {
   "cell_type": "markdown",
   "metadata": {},
   "source": [
    "## Step 1 - Setup our Environment\n",
    "Let's start by importing the software libraries we will need to build our neural network.  We will import PyTorch and check the version of PyTorch that has been imported.  You will usually want to run the latest version.  You can always check the latest version by heading over to PyTorch.org:\n",
    "    \n",
    "    https://pytorch.org/"
   ]
  },
  {
   "cell_type": "code",
   "execution_count": 24,
   "metadata": {},
   "outputs": [
    {
     "data": {
      "text/plain": [
       "'1.9.0'"
      ]
     },
     "execution_count": 24,
     "metadata": {},
     "output_type": "execute_result"
    }
   ],
   "source": [
    "# Import PyTorch libraries\n",
    "import torch\n",
    "from torch import nn\n",
    "\n",
    "# Import visualization library\n",
    "import matplotlib.pyplot as plt\n",
    "\n",
    "# Verify PyTorch version\n",
    "torch.__version__"
   ]
  },
  {
   "cell_type": "markdown",
   "metadata": {},
   "source": [
    "### Check Our Processing Capability (CPU vs. GPU)\n",
    "When developing A.I. projects, it will help to have a powerful GPU.  While this project does not require one, the code below will detect if one is present in your environment and use it during the training process."
   ]
  },
  {
   "cell_type": "code",
   "execution_count": 2,
   "metadata": {},
   "outputs": [
    {
     "name": "stdout",
     "output_type": "stream",
     "text": [
      "A cuda device was found for processing\n"
     ]
    }
   ],
   "source": [
    "# Check to see if we have a GPU to use for training\n",
    "device = 'cuda' if torch.cuda.is_available() else 'cpu'\n",
    "print('A {} device was found for processing'.format(device))"
   ]
  },
  {
   "cell_type": "markdown",
   "metadata": {},
   "source": [
    "## Step 2 - Download and Prepare our Dataset\n",
    "When training a neural network from scratch, you will usually need a lot of data.  We will start by loading all the lemonade stand data for one year (365 items) which is a rather small, simply synthetic dataset.  It includes information about the day the lemonade was sold including whether or not it was a weekend, sunny, warm, a big sign was present to advertise and the price.  Finally, there is the number of lemonade's sold.  Our neural network will be trained to predict the number of lemonade's sold (output) based on the other attributes (inputs)."
   ]
  },
  {
   "cell_type": "code",
   "execution_count": 25,
   "metadata": {},
   "outputs": [
    {
     "data": {
      "text/html": [
       "<div>\n",
       "<style scoped>\n",
       "    .dataframe tbody tr th:only-of-type {\n",
       "        vertical-align: middle;\n",
       "    }\n",
       "\n",
       "    .dataframe tbody tr th {\n",
       "        vertical-align: top;\n",
       "    }\n",
       "\n",
       "    .dataframe thead th {\n",
       "        text-align: right;\n",
       "    }\n",
       "</style>\n",
       "<table border=\"1\" class=\"dataframe\">\n",
       "  <thead>\n",
       "    <tr style=\"text-align: right;\">\n",
       "      <th></th>\n",
       "      <th>Weekend</th>\n",
       "      <th>Sunny</th>\n",
       "      <th>Warm</th>\n",
       "      <th>BigSign</th>\n",
       "      <th>Price</th>\n",
       "      <th>NumberSold</th>\n",
       "    </tr>\n",
       "  </thead>\n",
       "  <tbody>\n",
       "    <tr>\n",
       "      <th>0</th>\n",
       "      <td>1</td>\n",
       "      <td>0</td>\n",
       "      <td>0</td>\n",
       "      <td>1</td>\n",
       "      <td>9</td>\n",
       "      <td>71</td>\n",
       "    </tr>\n",
       "    <tr>\n",
       "      <th>1</th>\n",
       "      <td>1</td>\n",
       "      <td>1</td>\n",
       "      <td>1</td>\n",
       "      <td>0</td>\n",
       "      <td>10</td>\n",
       "      <td>137</td>\n",
       "    </tr>\n",
       "    <tr>\n",
       "      <th>2</th>\n",
       "      <td>0</td>\n",
       "      <td>1</td>\n",
       "      <td>0</td>\n",
       "      <td>0</td>\n",
       "      <td>10</td>\n",
       "      <td>0</td>\n",
       "    </tr>\n",
       "    <tr>\n",
       "      <th>3</th>\n",
       "      <td>1</td>\n",
       "      <td>0</td>\n",
       "      <td>0</td>\n",
       "      <td>1</td>\n",
       "      <td>6</td>\n",
       "      <td>107</td>\n",
       "    </tr>\n",
       "    <tr>\n",
       "      <th>4</th>\n",
       "      <td>1</td>\n",
       "      <td>0</td>\n",
       "      <td>0</td>\n",
       "      <td>1</td>\n",
       "      <td>8</td>\n",
       "      <td>80</td>\n",
       "    </tr>\n",
       "    <tr>\n",
       "      <th>5</th>\n",
       "      <td>1</td>\n",
       "      <td>1</td>\n",
       "      <td>0</td>\n",
       "      <td>0</td>\n",
       "      <td>6</td>\n",
       "      <td>110</td>\n",
       "    </tr>\n",
       "    <tr>\n",
       "      <th>6</th>\n",
       "      <td>1</td>\n",
       "      <td>1</td>\n",
       "      <td>1</td>\n",
       "      <td>0</td>\n",
       "      <td>8</td>\n",
       "      <td>167</td>\n",
       "    </tr>\n",
       "    <tr>\n",
       "      <th>7</th>\n",
       "      <td>0</td>\n",
       "      <td>0</td>\n",
       "      <td>1</td>\n",
       "      <td>1</td>\n",
       "      <td>8</td>\n",
       "      <td>0</td>\n",
       "    </tr>\n",
       "    <tr>\n",
       "      <th>8</th>\n",
       "      <td>1</td>\n",
       "      <td>0</td>\n",
       "      <td>1</td>\n",
       "      <td>0</td>\n",
       "      <td>8</td>\n",
       "      <td>124</td>\n",
       "    </tr>\n",
       "    <tr>\n",
       "      <th>9</th>\n",
       "      <td>1</td>\n",
       "      <td>1</td>\n",
       "      <td>0</td>\n",
       "      <td>0</td>\n",
       "      <td>7</td>\n",
       "      <td>95</td>\n",
       "    </tr>\n",
       "  </tbody>\n",
       "</table>\n",
       "</div>"
      ],
      "text/plain": [
       "   Weekend  Sunny  Warm  BigSign  Price  NumberSold\n",
       "0        1      0     0        1      9          71\n",
       "1        1      1     1        0     10         137\n",
       "2        0      1     0        0     10           0\n",
       "3        1      0     0        1      6         107\n",
       "4        1      0     0        1      8          80\n",
       "5        1      1     0        0      6         110\n",
       "6        1      1     1        0      8         167\n",
       "7        0      0     1        1      8           0\n",
       "8        1      0     1        0      8         124\n",
       "9        1      1     0        0      7          95"
      ]
     },
     "execution_count": 25,
     "metadata": {},
     "output_type": "execute_result"
    }
   ],
   "source": [
    "# Use Pandas to do our dataprocessing on the dataset\n",
    "# Download the dataset\n",
    "import pandas as pd\n",
    "url = 'https://raw.githubusercontent.com/LeakyAI/FirstNeuralNet/main/lemons.csv'\n",
    "df = pd.read_csv(url)\n",
    "\n",
    "# Explore the first 10 rows of the dataset\n",
    "df.head(10)"
   ]
  },
  {
   "cell_type": "code",
   "execution_count": 26,
   "metadata": {},
   "outputs": [
    {
     "data": {
      "text/plain": [
       "(365, 6)"
      ]
     },
     "execution_count": 26,
     "metadata": {},
     "output_type": "execute_result"
    }
   ],
   "source": [
    "# Check the size/shape of our dataset\n",
    "df.shape"
   ]
  },
  {
   "cell_type": "markdown",
   "metadata": {},
   "source": [
    "### Create our Inputs and Outputs for Training our Neural Network\n",
    "\n",
    "The data has been collected in a table with the following columns:  \n",
    "\n",
    "<pre> Weekend Sunny Warm BigSign Price NumberSold</pre>\n",
    "\n",
    "While the dataset is more or less ready to be used, we have two fields (Price and NumberSold) that contain real values.  Usually, it's easier to train neural networks if the values used are in the range rough range of -1..1.  We will first reduce the range of Price and NumberSold down using standardization. "
   ]
  },
  {
   "cell_type": "code",
   "execution_count": 30,
   "metadata": {},
   "outputs": [],
   "source": [
    "# Calculate the mean and standard deviation of price\n",
    "# Standardize numSold\n",
    "priceMean = df['Price'].mean()\n",
    "priceStd = df['Price'].std()\n",
    "df['Price'] = (df['Price']-priceMean)/priceStd\n",
    "\n",
    "# Calculate the mean and standard deviation of numSold\n",
    "# Standardize numSold\n",
    "numSoldMean = df['NumberSold'].mean()\n",
    "numSoldStd = df['NumberSold'].std()\n",
    "df['NumberSold'] = (df['NumberSold']-numSoldMean)/numSoldStd"
   ]
  },
  {
   "cell_type": "code",
   "execution_count": 31,
   "metadata": {},
   "outputs": [
    {
     "data": {
      "text/html": [
       "<div>\n",
       "<style scoped>\n",
       "    .dataframe tbody tr th:only-of-type {\n",
       "        vertical-align: middle;\n",
       "    }\n",
       "\n",
       "    .dataframe tbody tr th {\n",
       "        vertical-align: top;\n",
       "    }\n",
       "\n",
       "    .dataframe thead th {\n",
       "        text-align: right;\n",
       "    }\n",
       "</style>\n",
       "<table border=\"1\" class=\"dataframe\">\n",
       "  <thead>\n",
       "    <tr style=\"text-align: right;\">\n",
       "      <th></th>\n",
       "      <th>Weekend</th>\n",
       "      <th>Sunny</th>\n",
       "      <th>Warm</th>\n",
       "      <th>BigSign</th>\n",
       "      <th>Price</th>\n",
       "      <th>NumberSold</th>\n",
       "    </tr>\n",
       "  </thead>\n",
       "  <tbody>\n",
       "    <tr>\n",
       "      <th>0</th>\n",
       "      <td>1</td>\n",
       "      <td>0</td>\n",
       "      <td>0</td>\n",
       "      <td>1</td>\n",
       "      <td>0.846650</td>\n",
       "      <td>-0.023669</td>\n",
       "    </tr>\n",
       "    <tr>\n",
       "      <th>1</th>\n",
       "      <td>1</td>\n",
       "      <td>1</td>\n",
       "      <td>1</td>\n",
       "      <td>0</td>\n",
       "      <td>1.452587</td>\n",
       "      <td>0.743734</td>\n",
       "    </tr>\n",
       "    <tr>\n",
       "      <th>2</th>\n",
       "      <td>0</td>\n",
       "      <td>1</td>\n",
       "      <td>0</td>\n",
       "      <td>0</td>\n",
       "      <td>1.452587</td>\n",
       "      <td>-0.849208</td>\n",
       "    </tr>\n",
       "    <tr>\n",
       "      <th>3</th>\n",
       "      <td>1</td>\n",
       "      <td>0</td>\n",
       "      <td>0</td>\n",
       "      <td>1</td>\n",
       "      <td>-0.971158</td>\n",
       "      <td>0.394915</td>\n",
       "    </tr>\n",
       "    <tr>\n",
       "      <th>4</th>\n",
       "      <td>1</td>\n",
       "      <td>0</td>\n",
       "      <td>0</td>\n",
       "      <td>1</td>\n",
       "      <td>0.240714</td>\n",
       "      <td>0.080977</td>\n",
       "    </tr>\n",
       "  </tbody>\n",
       "</table>\n",
       "</div>"
      ],
      "text/plain": [
       "   Weekend  Sunny  Warm  BigSign     Price  NumberSold\n",
       "0        1      0     0        1  0.846650   -0.023669\n",
       "1        1      1     1        0  1.452587    0.743734\n",
       "2        0      1     0        0  1.452587   -0.849208\n",
       "3        1      0     0        1 -0.971158    0.394915\n",
       "4        1      0     0        1  0.240714    0.080977"
      ]
     },
     "execution_count": 31,
     "metadata": {},
     "output_type": "execute_result"
    }
   ],
   "source": [
    "df.head()"
   ]
  },
  {
   "cell_type": "markdown",
   "metadata": {},
   "source": [
    "### Create our Input (x) and Ouput (y) to Train our Neural Network\n",
    " \n",
    "Here you will create the input (x) and output (y) variables needed to train our network.  The number we want our neural network to predict is the field called 'NumberSold'.  This will be the output (y).  We will need to seperate out our input (Weekend, Sunny, Warm, BigSig, Price) from the ouput (NumberSold)."
   ]
  },
  {
   "cell_type": "code",
   "execution_count": 32,
   "metadata": {},
   "outputs": [],
   "source": [
    "# Create our PyTorch tensors and move to CPU or GPU if available\n",
    "# Extract the inputs and create a PyTorch tensor x (inputs)\n",
    "inputs = ['Weekend','Sunny','Warm','BigSign','Price']\n",
    "x = torch.tensor(df[inputs].values,dtype=torch.float, device=device)\n",
    "\n",
    "# Extract the outputs and create a PyTorch tensor y (outputs)\n",
    "outputs = ['NumberSold']\n",
    "y = torch.tensor(df[outputs].values,dtype=torch.float, device=device)"
   ]
  },
  {
   "cell_type": "code",
   "execution_count": 33,
   "metadata": {},
   "outputs": [
    {
     "data": {
      "text/plain": [
       "tensor([[ 1.0000,  0.0000,  0.0000,  1.0000,  0.8467],\n",
       "        [ 1.0000,  1.0000,  1.0000,  0.0000,  1.4526],\n",
       "        [ 0.0000,  1.0000,  0.0000,  0.0000,  1.4526],\n",
       "        [ 1.0000,  0.0000,  0.0000,  1.0000, -0.9712],\n",
       "        [ 1.0000,  0.0000,  0.0000,  1.0000,  0.2407]], device='cuda:0')"
      ]
     },
     "execution_count": 33,
     "metadata": {},
     "output_type": "execute_result"
    }
   ],
   "source": [
    "# Explore the first 5 inputs\n",
    "x[0:5]"
   ]
  },
  {
   "cell_type": "code",
   "execution_count": 29,
   "metadata": {},
   "outputs": [
    {
     "data": {
      "text/plain": [
       "tensor([[ 71.],\n",
       "        [137.],\n",
       "        [  0.],\n",
       "        [107.],\n",
       "        [ 80.]], device='cuda:0')"
      ]
     },
     "execution_count": 29,
     "metadata": {},
     "output_type": "execute_result"
    }
   ],
   "source": [
    "# Explore the first 5 outputs\n",
    "y[0:5]"
   ]
  },
  {
   "cell_type": "markdown",
   "metadata": {},
   "source": [
    "## Step 3 - Build your Neural Network\n",
    "Below you will build a simply neural network that will take in the inputs above (5) and produce a single value as an output.  This network has a single hidden layer of 100 units."
   ]
  },
  {
   "cell_type": "code",
   "execution_count": 34,
   "metadata": {},
   "outputs": [
    {
     "data": {
      "text/plain": [
       "Sequential(\n",
       "  (0): Linear(in_features=5, out_features=100, bias=True)\n",
       "  (1): ReLU()\n",
       "  (2): Linear(in_features=100, out_features=1, bias=True)\n",
       ")"
      ]
     },
     "execution_count": 34,
     "metadata": {},
     "output_type": "execute_result"
    }
   ],
   "source": [
    "model = nn.Sequential(\n",
    "            nn.Linear(5,100),\n",
    "            nn.ReLU(),\n",
    "            nn.Linear(100,1)\n",
    "        )\n",
    "\n",
    "# Move it to either the CPU or GPU depending on what we have available\n",
    "model.to(device)"
   ]
  },
  {
   "cell_type": "markdown",
   "metadata": {},
   "source": [
    "## Step 4 - Train your Neural Network"
   ]
  },
  {
   "cell_type": "markdown",
   "metadata": {},
   "source": [
    "Here we will simply train our neural network on the dataset.  We will provide it with an input and and output.  The training loop will then adjust the weights within the neural network to make it more accuarate as we go through the training process."
   ]
  },
  {
   "cell_type": "code",
   "execution_count": 35,
   "metadata": {},
   "outputs": [
    {
     "name": "stdout",
     "output_type": "stream",
     "text": [
      "Total Loss:  91.31713664802794\n",
      "Total Loss:  14.387015277219973\n",
      "Total Loss:  8.213433650645243\n",
      "Total Loss:  5.677527203276014\n",
      "Total Loss:  4.664473858159113\n"
     ]
    }
   ],
   "source": [
    "import torch.optim as optim\n",
    "\n",
    "# Meausure our neural network by mean square error\n",
    "criterion = torch.nn.MSELoss()\n",
    "\n",
    "# Train our network with a simple SGD approach\n",
    "optimizer = optim.SGD(model.parameters(), lr=0.01, momentum=0.9)\n",
    "\n",
    "# Train our network a using the entire dataset 5 times\n",
    "for epoch in range(5):\n",
    "    totalLoss = 0\n",
    "    for i in range(len(x)):\n",
    "        optimizer.zero_grad()\n",
    "        ypred = model(x[i])\n",
    "        loss = criterion(ypred, y[i])\n",
    "        totalLoss+=loss.item()\n",
    "        loss.backward()\n",
    "        optimizer.step()\n",
    "\n",
    "    # Print out our loss after each training iteration\n",
    "    print (\"Total Loss: \", totalLoss)"
   ]
  },
  {
   "cell_type": "markdown",
   "metadata": {},
   "source": [
    "## Step 5 - Analyze the Network's Performance"
   ]
  },
  {
   "cell_type": "code",
   "execution_count": 38,
   "metadata": {},
   "outputs": [],
   "source": [
    "# Plot predictions vs. true values\n",
    "@torch.no_grad() \n",
    "def graphPredictions(model, x, y , minValue, maxValue):\n",
    "    \n",
    "    model.eval()                               # Set the model to inference mode\n",
    "    \n",
    "    predictions=[]                             # Track predictions\n",
    "    actual=[]                                  # Track the actual labels\n",
    "    \n",
    "    x.to(device)\n",
    "    y.to(device)\n",
    "    model.to(device)\n",
    "    \n",
    "    for i in range(len(x)):\n",
    "        \n",
    "        # Single forward pass\n",
    "        pred = model(x[i])                               \n",
    "\n",
    "        # Un-normalize our prediction\n",
    "        pred = pred*numSoldStd+numSoldMean\n",
    "        act = y[i]*numSoldStd+numSoldMean\n",
    "        \n",
    "        # Save prediction and actual label\n",
    "        predictions.append(pred.tolist())\n",
    "        actual.append(act.item())\n",
    "    \n",
    "    # Plot actuals vs predictions\n",
    "    plt.scatter(actual, predictions)\n",
    "    plt.xlabel('Actual Lemonades Sold')\n",
    "    plt.ylabel('Predicted Lemonades Sold')\n",
    "    plt.plot([minValue,maxValue], [minValue,maxValue]) \n",
    "    plt.xlim(minValue, maxValue)\n",
    "    plt.ylim(minValue, maxValue)\n",
    " \n",
    "    # Make the display equal in both dimensions\n",
    "    plt.gca().set_aspect('equal', adjustable='box')\n",
    "    plt.show()"
   ]
  },
  {
   "cell_type": "code",
   "execution_count": 39,
   "metadata": {},
   "outputs": [
    {
     "data": {
      "image/png": "[encoded data removed]",
      "text/plain": [
       "<Figure size 432x288 with 1 Axes>"
      ]
     },
     "metadata": {
      "needs_background": "light"
     },
     "output_type": "display_data"
    }
   ],
   "source": [
    "graphPredictions(model, x, y, 0, 300)"
   ]
  },
  {
   "cell_type": "markdown",
   "metadata": {},
   "source": [
    "## Step 6 - Test with Your Own Predictions\n",
    "Below we makeup some input data and see what our predictions should be vs what the neural network predicted."
   ]
  },
  {
   "cell_type": "code",
   "execution_count": 14,
   "metadata": {},
   "outputs": [],
   "source": [
    "# Below we use the synthetic data generator forumla to\n",
    "# determine what the actual result should have been.\n",
    "def datasetGenerator(weekend, sunny, warm, bigsign, price):\n",
    "    numlemonssold = 0\n",
    "    if weekend:\n",
    "        numlemonssold = (sunny*5  + int(500 / price))\n",
    "        if bigsign:\n",
    "            numlemonssold = 1.3 * numlemonssold\n",
    "        if warm:\n",
    "            numlemonssold = 2 * numlemonssold\n",
    "        if sunny:\n",
    "            numlemonssold = 1.25 * numlemonssold\n",
    "    numlemonssold = int(numlemonssold)    \n",
    "    return numlemonssold"
   ]
  },
  {
   "cell_type": "code",
   "execution_count": 23,
   "metadata": {},
   "outputs": [
    {
     "name": "stdout",
     "output_type": "stream",
     "text": [
      "Neural Network Predicts:  673.2628173828125\n"
     ]
    }
   ],
   "source": [
    "# Data that affects the number of lemons sold in one day\n",
    "weekend = 1\n",
    "sunny = 1\n",
    "warm = 1    \n",
    "bigsign = 1\n",
    "price = 3\n",
    "\n",
    "# Use the CPU as we just need to do a single pass\n",
    "model.to('cpu')\n",
    "\n",
    "# Normalize our inputs using the same values for our training\n",
    "price = (price - priceMean) / priceStd\n",
    "\n",
    "# Create our input tensor\n",
    "x1 = torch.tensor([weekend, sunny, warm, bigsign, price],dtype=float)\n",
    "\n",
    "# Pass the input into the neural network\n",
    "y1 = model(x1.float())\n",
    "\n",
    "# Un-normalize our output y1\n",
    "y1 = y1*numSoldStd+numSoldMean\n",
    "\n",
    "# Calculate what would have been the actual result using\n",
    "# the synthetic dataset's algorithm\n",
    "actual = datasetGenerator(weekend, sunny, warm, bigsign, price)    \n",
    "\n",
    "# Compare what your network predicted to the actual\n",
    "print (\"Neural Network Predicts: \", y1.item())\n",
    "print (\"Actual Result: \", actual)"
   ]
  },
  {
   "cell_type": "markdown",
   "metadata": {},
   "source": [
    "## Next Steps\n",
    "This is just a beginning but hopefully you can see the power of neural networks!  There are lots of additional things you would do to the project above to make it better including:\n",
    "\n",
    "1.  breaking the dataset up into a training, validation and testing set\n",
    "2.  use a real world dataset\n",
    "3.  Tune the trainign to be a lot more accurate\n",
    "\n",
    "To learn more, head over to www.leaky.ai for more free tutorials.\n",
    "\n",
    "Also, check-out our Introduction to A.I. Programming Course at https://www.leaky.ai/introduction-to-ai-programming-with-pytorch-course-beginner where you can learn everything you need to know to start building your own A.I. projects!\n",
    "\n",
    "Happy Learning!\n",
    "\n",
    "leaky.ai team"
   ]
  }
 ],
 "metadata": {
  "kernelspec": {
   "display_name": "Python 3 (ipykernel)",
   "language": "python",
   "name": "python3"
  },
  "language_info": {
   "codemirror_mode": {
    "name": "ipython",
    "version": 3
   },
   "file_extension": ".py",
   "mimetype": "text/x-python",
   "name": "python",
   "nbconvert_exporter": "python",
   "pygments_lexer": "ipython3",
   "version": "3.8.2"
  }
 },
 "nbformat": 4,
 "nbformat_minor": 2
}
