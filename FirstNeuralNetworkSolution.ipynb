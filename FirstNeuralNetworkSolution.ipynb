{
 "cells": [
  {
   "cell_type": "markdown",
   "metadata": {},
   "source": [
    "# Introduction\n",
    "In this workbook, we will build a neural network from scratch.  You will be introduced to PyTorch and the power of neural networks.  We will be working on a synthetic dataset that catalogs the daily number of lemons sold at a lemon stand.  After training, the neural network will be ablet to predict the number of lemons that are likely going to be sold on a given day.  Lets get started!\n"
   ]
  },
  {
   "cell_type": "markdown",
   "metadata": {},
   "source": [
    "# Step 1 - Setup our Environment\n",
    "Lets start by importing the software libraries we will need to build our neural network"
   ]
  },
  {
   "cell_type": "markdown",
   "metadata": {},
   "source": [
    "### Import PyTorch and Check Version\n",
    "Here we verify that PyTorch has been loaded and also the version of PyTorch.  Keep in mind, we usually want to run the latest version.  Check at the link below to verify the latest version of PyTorch:\n",
    "    \n",
    "    https://pytorch.org/"
   ]
  },
  {
   "cell_type": "code",
   "execution_count": null,
   "metadata": {},
   "outputs": [],
   "source": [
    "# Import PyTorch libraries\n",
    "import torch\n",
    "from torch import nn \n",
    "\n",
    "# Verify PyTorch libraries have been loaded\n",
    "torch.__version__"
   ]
  },
  {
   "cell_type": "markdown",
   "metadata": {},
   "source": [
    "### Check Our Processing Capability (CPU vs. GPU)"
   ]
  },
  {
   "cell_type": "code",
   "execution_count": null,
   "metadata": {},
   "outputs": [],
   "source": [
    "device = 'cuda' if torch.cuda.is_available() else 'cpu'\n",
    "print('A {} device was found for processing'.format(device))"
   ]
  },
  {
   "cell_type": "markdown",
   "metadata": {},
   "source": [
    "### Download the Dataset\n",
    "Neural networks need lots of data.  We will start by loading all the lemonade stand data.  Here is will download all the data we have on the lemondade stand."
   ]
  },
  {
   "cell_type": "code",
   "execution_count": null,
   "metadata": {},
   "outputs": [],
   "source": [
    "!wget https://leaky.ai/wp-content/uploads/2021/03/lemons.csv"
   ]
  },
  {
   "cell_type": "markdown",
   "metadata": {},
   "source": [
    "# Step 2 - Prep our Data for the Neural Network\n",
    "\n",
    "The data has been collected in a table with the following columns:  'Weekend', 'Afternoon', 'Sunny', 'Warm', 'Sign', 'CuteDog', 'Ballons', 'Discount', 'FreshlyPicked', 'Ice', 'CleanHouse', 'DogWalked', 'NumberLemonsSold'.  The number we want our neural network to predict is the field called 'NumberLemonsSold'!  In order to train our network, we will need to seperate out our \"input\" (x) to the neural network and the \"output\" (y) or value we want it to learn.  Below we take out the last column from the data and place it into \"y\"."
   ]
  },
  {
   "cell_type": "code",
   "execution_count": null,
   "metadata": {},
   "outputs": [],
   "source": [
    "# Use Pandas to do our dataprocessing on the dataset\n",
    "import pandas as pd\n",
    "\n",
    "# Read only the columns of the csv file\n",
    "df = pd.read_csv('lemons.csv', nrows=1) \n",
    "columns = df.columns.tolist() \n",
    "print (\"Columns: \", columns)\n",
    "\n",
    "# Remove the last column from the list\n",
    "cols_to_use = columns[:len(columns)-1] # drop the last one\n",
    "\n",
    "# Now build our input (x) and output (y) to the neural network\n",
    "xDF = pd.read_csv('lemons.csv', usecols=cols_to_use)\n",
    "yDF = pd.read_csv('lemons.csv', usecols=['NumberLemonsSold'])\n",
    "\n",
    "# Finally convert our data to PyTorch tensors\n",
    "x = torch.tensor(xDF.values,dtype=torch.float)\n",
    "y = torch.tensor(yDF.values,dtype=torch.float)\n",
    "\n",
    "# Move our data to either CPU or GPU depending on what we discovered above\n",
    "x = x.to(device)\n",
    "y = y.to(device)"
   ]
  },
  {
   "cell_type": "markdown",
   "metadata": {},
   "source": [
    "# Step 3 - Build our Neural Network\n",
    "Below we build a simply neural network that will take in the inputs above (12) and produce a single value as an output.  This network has a single hidden layer of 30 units."
   ]
  },
  {
   "cell_type": "code",
   "execution_count": null,
   "metadata": {},
   "outputs": [],
   "source": [
    "class MyFirstNetwork(nn.Module):\n",
    "    def __init__(self):\n",
    "        super(MyFirstNetwork, self).__init__()\n",
    "        self.network = nn.Sequential(\n",
    "            nn.Linear(12,30),\n",
    "            nn.ReLU(),\n",
    "            nn.Linear(30,1)\n",
    "        )\n",
    "        \n",
    "    def forward(self, x):\n",
    "        logits = self.network(x)\n",
    "        return logits\n",
    "    \n",
    "# Create an instant of the neural network\n",
    "model = MyFirstNetwork()\n",
    "\n",
    "# Move it to either the CPU or GPU depending on what we have available\n",
    "model.to(device)"
   ]
  },
  {
   "cell_type": "markdown",
   "metadata": {},
   "source": [
    "# Step 4 - Train our Neural Network"
   ]
  },
  {
   "cell_type": "markdown",
   "metadata": {},
   "source": [
    "Here we will simply train our neural network on the dataset.  We will provide it with an input and and output.  The training loop will then adjust the weights within the neural network to make it more accuarate as we go through the training process."
   ]
  },
  {
   "cell_type": "code",
   "execution_count": null,
   "metadata": {},
   "outputs": [],
   "source": [
    "import torch.optim as optim\n",
    "\n",
    "# Meausure our neural network by mean square error\n",
    "criterion = torch.nn.MSELoss()\n",
    "\n",
    "# Train our network with a simple SGD approach\n",
    "optimizer = optim.SGD(model.parameters(), lr=0.001, momentum=0.9)\n",
    "\n",
    "# Train our network a using the entire dataset 5 times\n",
    "for epoch in range(5):\n",
    "\n",
    "    totalLoss = 0\n",
    "    for i in range(len(x)):\n",
    "        # Forward pass: Compute predicted y by passing x to the model\n",
    "        optimizer.zero_grad()\n",
    "        ypred = model(x[i])\n",
    "        loss = criterion(ypred, y[i])\n",
    "        totalLoss+=loss.item()\n",
    "        loss.backward()\n",
    "        optimizer.step()\n",
    "    print (\"Total Loss: \", totalLoss)\n"
   ]
  },
  {
   "cell_type": "markdown",
   "metadata": {},
   "source": [
    "# Step 5 - Test our Neural Network Predictions"
   ]
  },
  {
   "cell_type": "markdown",
   "metadata": {},
   "source": [
    "Below we makeup some input data and see what our predictions should be vs what the neural network predicted."
   ]
  },
  {
   "cell_type": "code",
   "execution_count": null,
   "metadata": {},
   "outputs": [],
   "source": [
    "# Data that affects the number of lemons sold in one day\n",
    "weekend = 1\n",
    "afternoon = 1\n",
    "sunny = 1\n",
    "warm = 0\n",
    "sign = 1\n",
    "cutedog = 0\n",
    "ballons = 1\n",
    "discount = 1\n",
    "freshlypicked = 1\n",
    "ice = 1\n",
    "\n",
    "# Data that usually does not affect lemons sold\n",
    "houseclean = 1\n",
    "dogwentwalk = 1"
   ]
  },
  {
   "cell_type": "markdown",
   "metadata": {},
   "source": [
    "Below we use the synthetic data generator forumla to determine what the actual result should have been."
   ]
  },
  {
   "cell_type": "code",
   "execution_count": null,
   "metadata": {},
   "outputs": [],
   "source": [
    "numlemonssold = 0\n",
    "if weekend:\n",
    "    numlemonssold = afternoon + sunny*5 + warm*10 + sign*2 + cutedog + \\\n",
    "                    ballons+discount+freshlypicked*5 + ice*2\n",
    "print (\"Actual Result: \", numlemonssold)"
   ]
  },
  {
   "cell_type": "markdown",
   "metadata": {},
   "source": [
    "Below we push that same input data into the neural network and see what it predicts."
   ]
  },
  {
   "cell_type": "code",
   "execution_count": null,
   "metadata": {},
   "outputs": [],
   "source": [
    "model.to('cpu')\n",
    "x = torch.tensor([weekend, afternoon,sunny,warm, sign, cutedog, \n",
    "                 ballons, discount, freshlypicked, ice, houseclean, \n",
    "                 dogwentwalk],dtype=float)\n",
    "y=model(x.float())\n",
    "print(\"Neural Network Predicts: \", y.item())"
   ]
  },
  {
   "cell_type": "markdown",
   "metadata": {},
   "source": [
    "# Step 6 - Next Steps\n",
    "This is just a beginning but hopefully you can see how powerful neural networks can be!  There are lots of things we would do above to make it work even better including breaking the dataset up into a training, validation and testing set and fine tune our training a lot more.  Check back at www.leaky.ai for more information and How-Tos to learn more!"
   ]
  }
 ],
 "metadata": {
  "kernelspec": {
   "display_name": "Python 3",
   "language": "python",
   "name": "python3"
  },
  "language_info": {
   "codemirror_mode": {
    "name": "ipython",
    "version": 3
   },
   "file_extension": ".py",
   "mimetype": "text/x-python",
   "name": "python",
   "nbconvert_exporter": "python",
   "pygments_lexer": "ipython3",
   "version": "3.7.3"
  }
 },
 "nbformat": 4,
 "nbformat_minor": 2
}
