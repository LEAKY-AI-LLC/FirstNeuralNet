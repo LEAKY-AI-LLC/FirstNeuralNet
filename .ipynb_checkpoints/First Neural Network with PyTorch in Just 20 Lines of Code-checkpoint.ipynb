{
 "cells": [
  {
   "cell_type": "code",
   "execution_count": 32,
   "id": "9b71ce19",
   "metadata": {},
   "outputs": [
    {
     "name": "stdout",
     "output_type": "stream",
     "text": [
      "0 Loss 0.075\n",
      "50 Loss 0.002\n",
      "100 Loss 0.004\n",
      "150 Loss 0.001\n"
     ]
    }
   ],
   "source": [
    "import torch\n",
    "from torch import nn\n",
    "\n",
    "import random\n",
    "\n",
    "def mystery(a,b):\n",
    "    return torch.tensor(a+3*b)\n",
    "\n",
    "model = nn.Sequential(nn.Linear(2,1))\n",
    "\n",
    "criterion = nn.MSELoss()\n",
    "optimizer = torch.optim.SGD(model.parameters(),lr=0.01,momentum=0.9)\n",
    "\n",
    "for i in range(1000):\n",
    "    # Setup input/output pairs\n",
    "    a = random.random()\n",
    "    b = random.random()\n",
    "    desiredOutput = mystery(a,b)\n",
    "\n",
    "    # train our network on only a, b and desired output\n",
    "    output = model(torch.tensor([a,b]))\n",
    "    loss = criterion(output.squeeze(), desiredOutput)\n",
    "\n",
    "    if (i % 100)==0:\n",
    "        print (f\"Loss {loss.item()}\")\n",
    "    \n",
    "    optimizer.zero_grad()\n",
    "    loss.backward()\n",
    "    optimizer.step()"
   ]
  },
  {
   "cell_type": "code",
   "execution_count": null,
   "id": "f799d67a",
   "metadata": {},
   "outputs": [],
   "source": [
    "a=1.0\n",
    "b=-1.0\n",
    "output = model(torch.tensor([a,b]))\n",
    "print (output.item())"
   ]
  },
  {
   "cell_type": "code",
   "execution_count": 33,
   "id": "e6da0401",
   "metadata": {},
   "outputs": [
    {
     "name": "stdout",
     "output_type": "stream",
     "text": [
      "tensor([[0.9083, 2.9192]])\n",
      "tensor([0.0937])\n"
     ]
    }
   ],
   "source": [
    "for param in model.parameters():\n",
    "  print(param.data)"
   ]
  }
 ],
 "metadata": {
  "kernelspec": {
   "display_name": "Python 3 (ipykernel)",
   "language": "python",
   "name": "python3"
  },
  "language_info": {
   "codemirror_mode": {
    "name": "ipython",
    "version": 3
   },
   "file_extension": ".py",
   "mimetype": "text/x-python",
   "name": "python",
   "nbconvert_exporter": "python",
   "pygments_lexer": "ipython3",
   "version": "3.8.2"
  }
 },
 "nbformat": 4,
 "nbformat_minor": 5
}
